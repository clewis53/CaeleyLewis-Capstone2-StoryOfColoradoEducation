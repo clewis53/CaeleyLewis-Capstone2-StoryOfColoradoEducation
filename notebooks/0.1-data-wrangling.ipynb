{
 "cells": [
  {
   "cell_type": "markdown",
   "id": "942d6d51-0335-4976-acd2-af5b2f9d8d65",
   "metadata": {},
   "source": [
    "# Initial Data Wrangling\n",
    "1. #### This notebook explores the raw data given by the the census and Kaggle api's as well as the data downloaded from the Colorado Department of Education. \n",
    "2. #### It will guide feature extraction from the datasets to a more human readable format.\n",
    "3. #### Finally, it will reduce the number of datasets to a more manageable amount to aid in exploratory data analysis. "
   ]
  },
  {
   "cell_type": "code",
   "execution_count": 1,
   "id": "4468274f-40f4-4c68-a6ec-dd4452cb00e4",
   "metadata": {},
   "outputs": [
    {
     "ename": "ModuleNotFoundError",
     "evalue": "No module named 'src'",
     "output_type": "error",
     "traceback": [
      "\u001b[1;31m---------------------------------------------------------------------------\u001b[0m",
      "\u001b[1;31mModuleNotFoundError\u001b[0m                       Traceback (most recent call last)",
      "Cell \u001b[1;32mIn[1], line 1\u001b[0m\n\u001b[1;32m----> 1\u001b[0m \u001b[38;5;28;01mfrom\u001b[39;00m \u001b[38;5;21;01msrc\u001b[39;00m\u001b[38;5;21;01m.\u001b[39;00m\u001b[38;5;21;01mdata\u001b[39;00m \u001b[38;5;28;01mimport\u001b[39;00m get_raw_data\n",
      "\u001b[1;31mModuleNotFoundError\u001b[0m: No module named 'src'"
     ]
    }
   ],
   "source": [
    "from src.data import get_raw_data"
   ]
  },
  {
   "cell_type": "code",
   "execution_count": null,
   "id": "3f0b9fe7-57dd-45ec-9abd-7bd5adf32fc0",
   "metadata": {},
   "outputs": [],
   "source": []
  }
 ],
 "metadata": {
  "kernelspec": {
   "display_name": "Python 3 (ipykernel)",
   "language": "python",
   "name": "python3"
  },
  "language_info": {
   "codemirror_mode": {
    "name": "ipython",
    "version": 3
   },
   "file_extension": ".py",
   "mimetype": "text/x-python",
   "name": "python",
   "nbconvert_exporter": "python",
   "pygments_lexer": "ipython3",
   "version": "3.10.8"
  }
 },
 "nbformat": 4,
 "nbformat_minor": 5
}
