{
 "cells": [
  {
   "cell_type": "markdown",
   "id": "942d6d51-0335-4976-acd2-af5b2f9d8d65",
   "metadata": {},
   "source": [
    "# Initial Data Wrangling\n",
    "1. #### This notebook explores the raw data given by the the census and Kaggle api's as well as the data downloaded from the Colorado Department of Education. \n",
    "2. #### It will guide feature extraction from the datasets to a more human readable format.\n",
    "3. #### Finally, it will reduce the number of datasets to a more manageable amount to aid in exploratory data analysis. "
   ]
  },
  {
   "cell_type": "code",
   "execution_count": 36,
   "id": "4468274f-40f4-4c68-a6ec-dd4452cb00e4",
   "metadata": {},
   "outputs": [],
   "source": [
    "import numpy as np\n",
    "import pandas as pd\n",
    "\n",
    "# To modules necessary to load the src.data.get_raw_data\n",
    "import importlib\n",
    "import sys\n",
    "\n",
    "# setting path\n",
    "sys.path.append('..')\n",
    "# importing\n",
    "from src.data import get_raw_data\n",
    "importlib.reload(get_raw_data);"
   ]
  },
  {
   "cell_type": "code",
   "execution_count": 33,
   "id": "3f0b9fe7-57dd-45ec-9abd-7bd5adf32fc0",
   "metadata": {},
   "outputs": [],
   "source": [
    "# Load the raw data \n",
    "raw_filepath = '../data/raw/' # filepath to all raw data\n",
    "get_raw_data.get_census(raw_filepath + 'census/') # loads SAIPE data sets from census.gov\n",
    "get_raw_data.get_kaggle(raw_filepath + 'kaggle/') # obtains the Kaggle competition data"
   ]
  },
  {
   "cell_type": "code",
   "execution_count": null,
   "id": "c318a506-aaae-4c18-b2cc-04b9082c086c",
   "metadata": {},
   "outputs": [],
   "source": []
  },
  {
   "cell_type": "code",
   "execution_count": null,
   "id": "6abb6474-6cd8-48b1-93e5-c2d34f3ec3c1",
   "metadata": {},
   "outputs": [],
   "source": []
  }
 ],
 "metadata": {
  "kernelspec": {
   "display_name": "Python 3 (ipykernel)",
   "language": "python",
   "name": "python3"
  },
  "language_info": {
   "codemirror_mode": {
    "name": "ipython",
    "version": 3
   },
   "file_extension": ".py",
   "mimetype": "text/x-python",
   "name": "python",
   "nbconvert_exporter": "python",
   "pygments_lexer": "ipython3",
   "version": "3.10.8"
  }
 },
 "nbformat": 4,
 "nbformat_minor": 5
}
