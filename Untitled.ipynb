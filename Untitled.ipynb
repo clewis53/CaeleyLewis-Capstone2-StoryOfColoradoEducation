{
 "cells": [
  {
   "cell_type": "code",
   "execution_count": 3,
   "id": "2d2bf719-c1bc-4516-a631-1ed3227c9f7e",
   "metadata": {},
   "outputs": [],
   "source": [
    "from src.data import get_raw_data"
   ]
  },
  {
   "cell_type": "code",
   "execution_count": null,
   "id": "e3689ef3-b06b-47b4-b37b-06ecadfbdace",
   "metadata": {},
   "outputs": [],
   "source": []
  }
 ],
 "metadata": {
  "kernelspec": {
   "display_name": "Python 3 (ipykernel)",
   "language": "python",
   "name": "python3"
  },
  "language_info": {
   "codemirror_mode": {
    "name": "ipython",
    "version": 3
   },
   "file_extension": ".py",
   "mimetype": "text/x-python",
   "name": "python",
   "nbconvert_exporter": "python",
   "pygments_lexer": "ipython3",
   "version": "3.10.8"
  }
 },
 "nbformat": 4,
 "nbformat_minor": 5
}
